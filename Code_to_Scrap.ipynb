{
 "cells": [
  {
   "cell_type": "markdown",
   "id": "08a3a335",
   "metadata": {},
   "source": [
    "# Code to extract the title of the video"
   ]
  },
  {
   "cell_type": "code",
   "execution_count": 5,
   "id": "fc5b2b2c",
   "metadata": {},
   "outputs": [
    {
     "name": "stdout",
     "output_type": "stream",
     "text": [
      "ARTS की दुनिया की PAHAL 🔥 || Launching Class 11th ARTS BATCH\n",
      "Something Big Coming Soon For Class - 9th & 10th Students 🔥 || Stay Tuned For More Updates 🖋️\n",
      "Launching PAHAL Batch 🔥 For Class 11th Arts Students 💪\n",
      "Launching FUNDO For Class - 6th to 8th Students 🔥💯 || Ab Hoga Padhai Ke Sath FUN 🤩\n",
      "⚡Unleashing the Power of PW Internationally⚡| Launching Physics Wallah Gulf\n"
     ]
    }
   ],
   "source": [
    "from selenium import webdriver\n",
    "from bs4 import BeautifulSoup\n",
    "import requests\n",
    "import pandas as pd\n",
    "\n",
    "driver = webdriver.Chrome()\n",
    "\n",
    "driver.get(\"https://www.youtube.com/@PW-Foundation/videos\")\n",
    "\n",
    "content = driver.page_source.encode(\"utf-8\").strip()\n",
    "\n",
    "soup = BeautifulSoup(content,'lxml')\n",
    "\n",
    "titles = soup.findAll('a',id='video-title-link')\n",
    "\n",
    "for title in titles[:5]:\n",
    "    print(title.text)\n",
    "\n",
    "driver.quit()"
   ]
  },
  {
   "cell_type": "markdown",
   "id": "6bfceb6d",
   "metadata": {},
   "source": [
    "# Code to extract the views of the videos"
   ]
  },
  {
   "cell_type": "code",
   "execution_count": 6,
   "id": "3af52025",
   "metadata": {},
   "outputs": [
    {
     "name": "stdout",
     "output_type": "stream",
     "text": [
      "18K views\n",
      "41K views\n",
      "34K views\n",
      "27K views\n",
      "71K views\n"
     ]
    }
   ],
   "source": [
    "from selenium import webdriver\n",
    "from bs4 import BeautifulSoup\n",
    "import requests\n",
    "import pandas as pd\n",
    "\n",
    "driver = webdriver.Chrome()\n",
    "\n",
    "driver.get(\"https://www.youtube.com/@PW-Foundation/videos\")\n",
    "\n",
    "content = driver.page_source.encode(\"utf-8\").strip()\n",
    "\n",
    "soup = BeautifulSoup(content,'lxml')\n",
    "\n",
    "titles = soup.findAll('a',id='video-title-link')\n",
    "\n",
    "views = soup.findAll('span',class_='inline-metadata-item style-scope ytd-video-meta-block')\n",
    "\n",
    "i = 0\n",
    "\n",
    "for title in titles[:5]:\n",
    "    print(views[i].text)\n",
    "    i+=2\n",
    "\n",
    "driver.quit()"
   ]
  },
  {
   "cell_type": "markdown",
   "id": "e4d7e249",
   "metadata": {},
   "source": [
    "# Code to extract the time of the upload "
   ]
  },
  {
   "cell_type": "code",
   "execution_count": 7,
   "id": "880e064c",
   "metadata": {},
   "outputs": [
    {
     "name": "stdout",
     "output_type": "stream",
     "text": [
      "12 days ago\n",
      "3 weeks ago\n",
      "4 weeks ago\n",
      "1 month ago\n",
      "1 month ago\n"
     ]
    }
   ],
   "source": [
    "from selenium import webdriver\n",
    "from bs4 import BeautifulSoup\n",
    "import requests\n",
    "import pandas as pd\n",
    "\n",
    "driver = webdriver.Chrome()\n",
    "\n",
    "driver.get(\"https://www.youtube.com/@PW-Foundation/videos\")\n",
    "\n",
    "content = driver.page_source.encode(\"utf-8\").strip()\n",
    "\n",
    "soup = BeautifulSoup(content,'lxml')\n",
    "\n",
    "titles = soup.findAll('a',id='video-title-link')\n",
    "\n",
    "time_upload = soup.findAll('span',class_='inline-metadata-item style-scope ytd-video-meta-block')\n",
    "\n",
    "i = 0\n",
    "\n",
    "for title in titles[:5]:\n",
    "    print(time_upload[i+1].text)\n",
    "    i+=2\n",
    "    \n",
    "driver.quit()"
   ]
  },
  {
   "cell_type": "markdown",
   "id": "0d3dab69",
   "metadata": {},
   "source": [
    "# Code to extract the video url"
   ]
  },
  {
   "cell_type": "code",
   "execution_count": 8,
   "id": "3178f087",
   "metadata": {},
   "outputs": [
    {
     "name": "stdout",
     "output_type": "stream",
     "text": [
      "https://www.youtube.com//watch?v=LuTONVLzESM\n",
      "https://www.youtube.com//watch?v=KWXKegvNa-I\n",
      "https://www.youtube.com//watch?v=dArUpCasmnE\n",
      "https://www.youtube.com//watch?v=HqG2QchBw8Y\n",
      "https://www.youtube.com//watch?v=1izKrQHyx9M\n"
     ]
    }
   ],
   "source": [
    "from selenium import webdriver\n",
    "from bs4 import BeautifulSoup\n",
    "import requests\n",
    "import pandas as pd\n",
    "\n",
    "driver = webdriver.Chrome()\n",
    "\n",
    "driver.get(\"https://www.youtube.com/@PW-Foundation/videos\")\n",
    "\n",
    "content = driver.page_source.encode(\"utf-8\").strip()\n",
    "\n",
    "soup = BeautifulSoup(content,'lxml')\n",
    "\n",
    "titles = soup.findAll('a',id='video-title-link')\n",
    "\n",
    "video_url=soup.findAll('a',id='video-title-link')\n",
    "\n",
    "i = 0\n",
    "\n",
    "for title in titles[:5]:\n",
    "    print(\"https://www.youtube.com/\"+video_url[i].get('href'))\n",
    "    i+=1\n",
    "\n",
    "driver.quit()"
   ]
  },
  {
   "cell_type": "markdown",
   "id": "fb73ecbb",
   "metadata": {},
   "source": [
    "# Code to Extract the thumbnail url of the video "
   ]
  },
  {
   "cell_type": "code",
   "execution_count": 3,
   "id": "af694c10",
   "metadata": {
    "scrolled": true
   },
   "outputs": [
    {
     "name": "stdout",
     "output_type": "stream",
     "text": [
      "Thumbnail 1: https://i.ytimg.com/vi/LuTONVLzESM/hqdefault.jpg?sqp=-oaymwEcCNACELwBSFXyq4qpAw4IARUAAIhCGAFwAcABBg==&rs=AOn4CLCaMVZmPmUqryYudQm6lobkny_-Cg\n",
      "Thumbnail 2: https://i.ytimg.com/vi/KWXKegvNa-I/hqdefault.jpg?sqp=-oaymwEcCNACELwBSFXyq4qpAw4IARUAAIhCGAFwAcABBg==&rs=AOn4CLAZ9XEzNrcu4YfUzbEfohE3CdXIVw\n",
      "Thumbnail 3: https://i.ytimg.com/vi/dArUpCasmnE/hqdefault.jpg?sqp=-oaymwEcCNACELwBSFXyq4qpAw4IARUAAIhCGAFwAcABBg==&rs=AOn4CLCdiUURSFwzHKBaqzNQnNYVFf1PZA\n",
      "Thumbnail 4: https://i.ytimg.com/vi/HqG2QchBw8Y/hqdefault.jpg?sqp=-oaymwEcCNACELwBSFXyq4qpAw4IARUAAIhCGAFwAcABBg==&rs=AOn4CLB2qRg5GsfQROPt6YiiG3CXXiExjg\n",
      "Thumbnail 5: https://i.ytimg.com/vi/1izKrQHyx9M/hqdefault.jpg?sqp=-oaymwEcCNACELwBSFXyq4qpAw4IARUAAIhCGAFwAcABBg==&rs=AOn4CLCvjSUCwD4j5ZVE_nUMLg6QNCpkfg\n"
     ]
    }
   ],
   "source": [
    "from selenium import webdriver\n",
    "from bs4 import BeautifulSoup\n",
    "from selenium.webdriver.common.by import By\n",
    "import time\n",
    "\n",
    "channel_url = 'https://www.youtube.com/@PW-Foundation/videos'\n",
    "num_videos_to_load = 20\n",
    "\n",
    "driver = webdriver.Chrome()\n",
    "\n",
    "driver.get(channel_url)\n",
    "time.sleep(5)\n",
    "\n",
    "# Scroll to load all videos\n",
    "while len(driver.find_elements(By.CSS_SELECTOR, 'ytd-thumbnail')) < num_videos_to_load:\n",
    "    driver.execute_script(\"window.scrollTo(0, document.documentElement.scrollHeight);\")\n",
    "    time.sleep(3)\n",
    "\n",
    "page_source = driver.page_source\n",
    "driver.quit()\n",
    "\n",
    "soup = BeautifulSoup(page_source, 'html.parser')\n",
    "\n",
    "thumbnail_urls = []\n",
    "thumbnail_elements = soup.find_all('ytd-thumbnail')\n",
    "for thumbnail in thumbnail_elements:\n",
    "    img = thumbnail.find('img')\n",
    "    if img and img.has_attr('src'):\n",
    "        thumbnail_url = img['src']\n",
    "        if thumbnail_url.startswith('https://i.ytimg.com'):\n",
    "            thumbnail_urls.append(thumbnail_url)\n",
    "\n",
    "for index, url in enumerate(thumbnail_urls[:5],start=1):\n",
    "    print(f\"Thumbnail {index}: {url}\")\n"
   ]
  },
  {
   "cell_type": "code",
   "execution_count": null,
   "id": "8741f6ba",
   "metadata": {},
   "outputs": [],
   "source": []
  },
  {
   "cell_type": "code",
   "execution_count": null,
   "id": "b2f7b850",
   "metadata": {},
   "outputs": [],
   "source": []
  }
 ],
 "metadata": {
  "kernelspec": {
   "display_name": "Python 3 (ipykernel)",
   "language": "python",
   "name": "python3"
  },
  "language_info": {
   "codemirror_mode": {
    "name": "ipython",
    "version": 3
   },
   "file_extension": ".py",
   "mimetype": "text/x-python",
   "name": "python",
   "nbconvert_exporter": "python",
   "pygments_lexer": "ipython3",
   "version": "3.8.7"
  }
 },
 "nbformat": 4,
 "nbformat_minor": 5
}
